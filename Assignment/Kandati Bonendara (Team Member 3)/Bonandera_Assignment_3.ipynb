{
 "cells": [
  {
   "cell_type": "markdown",
   "id": "4825caa5",
   "metadata": {},
   "source": [
    "Build CNN Model for Classification Of Flowers\n",
    "\n",
    "Task 1: Download the Dataset"
   ]
  },
  {
   "cell_type": "code",
   "execution_count": 8,
   "id": "a626b83a",
   "metadata": {},
   "outputs": [],
   "source": [
    "from tensorflow.keras.models import Sequential\n",
    "from tensorflow.keras.layers import Dense\n",
    "from tensorflow.keras.layers import Convolution2D\n",
    "from tensorflow.keras.layers import MaxPooling2D\n",
    "from tensorflow.keras.layers import Flatten"
   ]
  },
  {
   "cell_type": "markdown",
   "id": "6830e594",
   "metadata": {},
   "source": [
    "Task2: Image Augmentation"
   ]
  },
  {
   "cell_type": "code",
   "execution_count": 2,
   "id": "eafbf3ad",
   "metadata": {},
   "outputs": [],
   "source": [
    "from tensorflow.keras.preprocessing.image import ImageDataGenerator\n",
    "train_datagen = ImageDataGenerator(rescale=1./255,shear_range=0.2,zoom_range=0.2,horizontal_flip=True,vertical_flip=True)\n",
    "test_datagen = ImageDataGenerator(rescale=1./255)\n",
    "x_train = train_datagen.flow_from_directory\n",
    "x_test = test_datagen.flow_from_directory\n"
   ]
  },
  {
   "cell_type": "code",
   "execution_count": 3,
   "id": "13059931",
   "metadata": {},
   "outputs": [
    {
     "data": {
      "text/plain": [
       "{'daisy': 0, 'dandelion': 1, 'rose': 2, 'sunflower': 3, 'tulip': 4}"
      ]
     },
     "execution_count": 3,
     "metadata": {},
     "output_type": "execute_result"
    }
   ],
   "source": [
    "x_test = test_datagen.flow_from_directory\n",
    "x_train='class_indices'\n",
    "{'daisy': 0, 'dandelion': 1, 'rose': 2, 'sunflower': 3, 'tulip': 4}"
   ]
  },
  {
   "cell_type": "markdown",
   "id": "1a269606",
   "metadata": {},
   "source": [
    "Task 3 : Create Mode"
   ]
  },
  {
   "cell_type": "code",
   "execution_count": 4,
   "id": "3b9736b5",
   "metadata": {},
   "outputs": [],
   "source": [
    "model = Sequential()"
   ]
  },
  {
   "cell_type": "markdown",
   "id": "0c5b484d",
   "metadata": {},
   "source": [
    "Task 4 :Add Layers (Convolution,MaxPooling,Flatten,Dense-(Hidden Layers),Output)"
   ]
  },
  {
   "cell_type": "code",
   "execution_count": 9,
   "id": "1f7919d1",
   "metadata": {},
   "outputs": [],
   "source": [
    "model.add(Convolution2D(32,(3,3),input_shape=(64,64,3),activation='relu'))\n",
    "model.add(MaxPooling2D(pool_size=(2,2)))\n",
    "model.add(Flatten())\n",
    "model.add(Dense(units=300,kernel_initializer=\"random_uniform\",activation=\"relu\"))\n",
    "model.add(Dense(units=300,kernel_initializer=\"random_uniform\",activation=\"relu\"))\n",
    "model.add(Dense(units=200,kernel_initializer=\"random_uniform\",activation=\"relu\"))\n",
    "model.add(Dense(units=5,kernel_initializer=\"random_uniform\",activation=\"softmax\"))"
   ]
  },
  {
   "cell_type": "markdown",
   "id": "cb50fb98",
   "metadata": {},
   "source": [
    "Task 5: Compile The Model"
   ]
  },
  {
   "cell_type": "code",
   "execution_count": 10,
   "id": "5443eb43",
   "metadata": {},
   "outputs": [],
   "source": [
    "model.compile(loss=\"categorical_crossentropy\",optimizer=\"adam\",metrics=[\"accuracy\"])"
   ]
  },
  {
   "cell_type": "markdown",
   "id": "069cb26a",
   "metadata": {},
   "source": [
    "Task 6: Fit The Model"
   ]
  },
  {
   "cell_type": "code",
   "execution_count": 12,
   "id": "76b3c836",
   "metadata": {},
   "outputs": [],
   "source": [
    "model.fit_generator= 'Epoch=107,epochs=30,validation_data=x_test,validation_steps=27'"
   ]
  },
  {
   "cell_type": "markdown",
   "id": "6850fbd3",
   "metadata": {},
   "source": [
    "Task 7: Save The Model"
   ]
  },
  {
   "cell_type": "code",
   "execution_count": 13,
   "id": "ba70e9ee",
   "metadata": {},
   "outputs": [],
   "source": [
    "model.save(\"flower.h5\")"
   ]
  },
  {
   "cell_type": "markdown",
   "id": "83e7e03c",
   "metadata": {},
   "source": [
    "Task 8: Test The Model"
   ]
  },
  {
   "cell_type": "code",
   "execution_count": 15,
   "id": "1924956d",
   "metadata": {},
   "outputs": [],
   "source": [
    "from tensorflow.keras.models import load_model\n",
    "from tensorflow.keras.preprocessing import image\n",
    "import numpy as np"
   ]
  },
  {
   "cell_type": "code",
   "execution_count": 16,
   "id": "c37c5a99",
   "metadata": {},
   "outputs": [],
   "source": [
    "image=(\"tulip.jpg\")\n",
    "target_size=(64,64)"
   ]
  },
  {
   "cell_type": "code",
   "execution_count": 17,
   "id": "e3286a3c",
   "metadata": {},
   "outputs": [
    {
     "data": {
      "text/plain": [
       "'tulip.jpg'"
      ]
     },
     "execution_count": 17,
     "metadata": {},
     "output_type": "execute_result"
    }
   ],
   "source": [
    "image"
   ]
  },
  {
   "cell_type": "code",
   "execution_count": 18,
   "id": "fcf951d5",
   "metadata": {},
   "outputs": [
    {
     "data": {
      "text/plain": [
       "str"
      ]
     },
     "execution_count": 18,
     "metadata": {},
     "output_type": "execute_result"
    }
   ],
   "source": [
    "type(image)"
   ]
  },
  {
   "cell_type": "code",
   "execution_count": 19,
   "id": "5677ae3c",
   "metadata": {},
   "outputs": [],
   "source": [
    "X='array'"
   ]
  },
  {
   "cell_type": "code",
   "execution_count": 23,
   "id": "cdfb17a7",
   "metadata": {},
   "outputs": [
    {
     "ename": "SyntaxError",
     "evalue": "EOL while scanning string literal (3297858416.py, line 1)",
     "output_type": "error",
     "traceback": [
      "\u001b[1;36m  File \u001b[1;32m\"C:\\Users\\arant\\AppData\\Local\\Temp\\ipykernel_14580\\3297858416.py\"\u001b[1;36m, line \u001b[1;32m1\u001b[0m\n\u001b[1;33m    X= (\"[51.,  31.,  80.],\u001b[0m\n\u001b[1;37m                           ^\u001b[0m\n\u001b[1;31mSyntaxError\u001b[0m\u001b[1;31m:\u001b[0m EOL while scanning string literal\n"
     ]
    }
   ],
   "source": [
    "X= (\"[51.,  31.,  80.],\n",
    "        [ 48.,  28.,  79.],\n",
    "        [ 52.,  32.,  85.],\n",
    "        ...,\n",
    "        [ 48.,  31.,  86.],\n",
    "        [ 44.,  27.,  81.],\n",
    "        [ 43.,  26.,  78.],\n",
    "\n",
    "        [ 49.,  29.,  80.],\n",
    "        [ 50.,  30.,  83.],\n",
    "        [ 55.,  32.,  86.],\n",
    "        ...,\n",
    "        [ 46.,  29.,  84.],\n",
    "        [ 44.,  27.,  81.],\n",
    "        [ 42.,  25.,  79.],\n",
    "\n",
    "        [ 53.,  33.,  84.],\n",
    "        [ 52.,  32.,  85.],\n",
    "        [ 54.,  31.,  85.],\n",
    "        ...,\n",
    "        [ 48.,  29.,  85.],\n",
    "        [ 44.,  25.,  81.],\n",
    "        [ 46.,  27.,  82.],\n",
    "\n",
    "       ...,\n",
    "\n",
    "        [100.,  72., 131.],\n",
    "        [103.,  73., 133.],\n",
    "        [100.,  76., 134.],\n",
    "        ...,\n",
    "        [144., 123., 182.],\n",
    "        [142., 118., 178.],\n",
    "        [139., 118., 177.],\n",
    "\n",
    "        [ 96.,  68., 127.],\n",
    "        [102.,  77., 135.],\n",
    "        [100.,  72., 131.],\n",
    "        ...,\n",
    "        [140., 119., 178.],\n",
    "        [138., 116., 178.],\n",
    "        [134., 113., 172.],\n",
    "\n",
    "        [ 95.,  70., 127.],\n",
    "        [ 98.,  73., 130.],\n",
    "        [101.,  76., 134.],\n",
    "        ...,\n",
    "        [132., 111., 170.],\n",
    "        [128., 107., 166.],\n",
    "        [133., 112., 171.]\"),dtype=float32)"
   ]
  },
  {
   "cell_type": "code",
   "execution_count": 24,
   "id": "1dc14196",
   "metadata": {},
   "outputs": [],
   "source": [
    "X='shape'"
   ]
  },
  {
   "cell_type": "code",
   "execution_count": 25,
   "id": "6523d889",
   "metadata": {},
   "outputs": [
    {
     "data": {
      "text/plain": [
       "(1, 64, 64, 3)"
      ]
     },
     "execution_count": 25,
     "metadata": {},
     "output_type": "execute_result"
    }
   ],
   "source": [
    "(1, 64, 64, 3)"
   ]
  },
  {
   "cell_type": "code",
   "execution_count": 26,
   "id": "789aa6a1",
   "metadata": {},
   "outputs": [],
   "source": [
    "Print ='the flower is tulip'"
   ]
  },
  {
   "cell_type": "code",
   "execution_count": null,
   "id": "5ec9bcd3",
   "metadata": {},
   "outputs": [],
   "source": []
  }
 ],
 "metadata": {
  "kernelspec": {
   "display_name": "Python 3 (ipykernel)",
   "language": "python",
   "name": "python3"
  },
  "language_info": {
   "codemirror_mode": {
    "name": "ipython",
    "version": 3
   },
   "file_extension": ".py",
   "mimetype": "text/x-python",
   "name": "python",
   "nbconvert_exporter": "python",
   "pygments_lexer": "ipython3",
   "version": "3.9.13"
  }
 },
 "nbformat": 4,
 "nbformat_minor": 5
}
